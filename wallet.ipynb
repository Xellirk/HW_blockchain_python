{
 "cells": [
  {
   "cell_type": "code",
   "execution_count": 71,
   "id": "9e7d3e2b",
   "metadata": {},
   "outputs": [],
   "source": [
    "# Import dependencies\n",
    "import subprocess\n",
    "import json\n",
    "from dotenv import load_dotenv\n",
    "import os\n",
    "\n",
    "# Load and set environment variables\n",
    "load_dotenv()\n",
    "mnemonic=os.getenv(\".env\")\n",
    "\n",
    "# Import constants.py and necessary functions from bit and web3\n",
    "from constants import *\n",
    "\n",
    " \n",
    "# Create a function called `derive_wallets`\n",
    "def derive_wallets(coin):\n",
    "    command = f'php ./derive -g --mnemonic =\"{mnemonic}\" --coin=\"{coin}\" --numderive=3 --format=json'\n",
    "    p = subprocess.Popen(command, stdout=subprocess.PIPE, shell=True)\n",
    "    output, err = p.communicate()\n",
    "    p_status = p.wait()\n",
    "    return json.loads(output)\n",
    "\n",
    "# Create a dictionary object called coins to store the output from `derive_wallets`.\n",
    "coins = {\"ETH\": derive_wallets(ETH),\n",
    "         \"BTCTEST\": derive_wallets(BTCTEST)\n",
    "         }"
   ]
  },
  {
   "cell_type": "code",
   "execution_count": 59,
   "id": "e59068c6",
   "metadata": {},
   "outputs": [],
   "source": [
    "# Create a function called `priv_key_to_account` that converts privkey strings to account objects.\n",
    "def priv_key_to_account(coin, priv_key):\n",
    "    if coin == ETH:\n",
    "        return Account.privateKeyToAccount(priv_key)\n",
    "    if coin == BTCTEST:\n",
    "        return PrivateKeyTestnet(priv_key)\n",
    "    else:\n",
    "        print('Please use ETH or BTCTEST')\n"
   ]
  },
  {
   "cell_type": "code",
   "execution_count": 80,
   "id": "f6f849d8",
   "metadata": {},
   "outputs": [],
   "source": [
    "# Create a function called `create_tx` that creates an unsigned transaction appropriate metadata.\n",
    "def create_tx(coin, account, to, amount):\n",
    "    if coin == ETH:\n",
    "        gas_estimate = w3.eth.estimateGas({'from': account.address,\n",
    "                                           'to': to,\n",
    "                                           'value':amount}\n",
    "                                          )\n",
    "        return {'from': account.address,\n",
    "                'to': to,\n",
    "                'value': amount,\n",
    "                'gasPrice': w3.eth.gasPrice,\n",
    "                'gas': gas_estimate,\n",
    "                'nonce': w3.eth.get.gettransactionCount(account.address)\n",
    "                }\n",
    "    elif coin == BTCTEST:\n",
    "        return PrivateKeyTestnet.prepare_transaction(account.address, [(to, amount, BTC)])\n",
    "    else:\n",
    "        print(\"Please use ETH or BTCTEST\")"
   ]
  },
  {
   "cell_type": "code",
   "execution_count": 83,
   "id": "cd8f5d6a",
   "metadata": {},
   "outputs": [],
   "source": [
    "# Create a function called `send_tx` that calls `create_tx`, signs and sends the transaction.\n",
    "def send_tx(coin, account, to, amount):\n",
    "    if coin == ETH:\n",
    "        raw_tx = create_tx(coin, account, to, amount)\n",
    "        signed_tx = account.signTransaction(raw_tx)\n",
    "        return w3.eth.sendRawTransaction(signed.rawTransaction)\n",
    "    elif coin == BTCTEST:\n",
    "        raw_tx = create_tx(coin, account, to, amount)\n",
    "        signed_tx = account.sign_transaction(raw_tx)\n",
    "        return NetworkAPI.broadcast_tx_testnet(signed_tx)"
   ]
  },
  {
   "cell_type": "code",
   "execution_count": 74,
   "id": "f92e5758",
   "metadata": {},
   "outputs": [
    {
     "name": "stdout",
     "output_type": "stream",
     "text": [
      "BTCTEST Address: muP9jbfn7rY7HwPU3LDPFdjDNtGrQQHd89\n",
      "BTCTEST Private Key: cV7yp2QRJQs11VwAyZP2yDQkvgTx77bNYp6HJnU2njm6hQvYxusk\n"
     ]
    }
   ],
   "source": [
    "btc_test_address = coins['BTCTEST'][0]['address']\n",
    "btc_test_privkey = coins['BTCTEST'][0]['privkey']"
   ]
  },
  {
   "cell_type": "code",
   "execution_count": 75,
   "id": "d61014bd",
   "metadata": {},
   "outputs": [],
   "source": [
    "btc_account = priv_key_to_account(BTCTEST, btc_test_privkey)"
   ]
  },
  {
   "cell_type": "code",
   "execution_count": 84,
   "id": "1a3a894a",
   "metadata": {},
   "outputs": [],
   "source": [
    "send_tx(BTCTEST, btc_account,\"mkHS9ne12qx9pS9VojpwU5xtRd4T7X7ZUt\", 0.00001)"
   ]
  },
  {
   "cell_type": "code",
   "execution_count": null,
   "id": "0657e714",
   "metadata": {},
   "outputs": [],
   "source": []
  }
 ],
 "metadata": {
  "kernelspec": {
   "display_name": "Python [conda env:dev] *",
   "language": "python",
   "name": "conda-env-dev-py"
  },
  "language_info": {
   "codemirror_mode": {
    "name": "ipython",
    "version": 3
   },
   "file_extension": ".py",
   "mimetype": "text/x-python",
   "name": "python",
   "nbconvert_exporter": "python",
   "pygments_lexer": "ipython3",
   "version": "3.7.9"
  }
 },
 "nbformat": 4,
 "nbformat_minor": 5
}
